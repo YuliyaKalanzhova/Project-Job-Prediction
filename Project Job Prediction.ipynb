{
 "cells": [
  {
   "cell_type": "code",
   "execution_count": 132,
   "id": "f0f26c7c",
   "metadata": {},
   "outputs": [],
   "source": [
    "import numpy as np\n",
    "import pandas as pd\n",
    "\n",
    "%matplotlib inline\n",
    "import matplotlib.pyplot as plt\n",
    "import seaborn as sns\n",
    "sns.set()"
   ]
  },
  {
   "cell_type": "code",
   "execution_count": 133,
   "id": "90c1d3f0",
   "metadata": {},
   "outputs": [
    {
     "data": {
      "text/html": [
       "<div>\n",
       "<style scoped>\n",
       "    .dataframe tbody tr th:only-of-type {\n",
       "        vertical-align: middle;\n",
       "    }\n",
       "\n",
       "    .dataframe tbody tr th {\n",
       "        vertical-align: top;\n",
       "    }\n",
       "\n",
       "    .dataframe thead th {\n",
       "        text-align: right;\n",
       "    }\n",
       "</style>\n",
       "<table border=\"1\" class=\"dataframe\">\n",
       "  <thead>\n",
       "    <tr style=\"text-align: right;\">\n",
       "      <th></th>\n",
       "      <th>job_title</th>\n",
       "      <th>hh_title</th>\n",
       "      <th>age</th>\n",
       "      <th>salary</th>\n",
       "      <th>exp. period</th>\n",
       "      <th>title of exp.</th>\n",
       "    </tr>\n",
       "  </thead>\n",
       "  <tbody>\n",
       "    <tr>\n",
       "      <th>0</th>\n",
       "      <td>data analyst</td>\n",
       "      <td>Data analyst</td>\n",
       "      <td>22.0</td>\n",
       "      <td>NaN</td>\n",
       "      <td>2.67</td>\n",
       "      <td>Data Analyst</td>\n",
       "    </tr>\n",
       "    <tr>\n",
       "      <th>1</th>\n",
       "      <td>data analyst</td>\n",
       "      <td>Data Analyst</td>\n",
       "      <td>21.0</td>\n",
       "      <td>NaN</td>\n",
       "      <td>0.83</td>\n",
       "      <td>Junior Data Analyst</td>\n",
       "    </tr>\n",
       "    <tr>\n",
       "      <th>2</th>\n",
       "      <td>data analyst</td>\n",
       "      <td>Data Analyst</td>\n",
       "      <td>30.0</td>\n",
       "      <td>NaN</td>\n",
       "      <td>7.50</td>\n",
       "      <td>Data Analyst</td>\n",
       "    </tr>\n",
       "    <tr>\n",
       "      <th>3</th>\n",
       "      <td>data analyst</td>\n",
       "      <td>Data Analyst</td>\n",
       "      <td>24.0</td>\n",
       "      <td>NaN</td>\n",
       "      <td>4.92</td>\n",
       "      <td>Data Analyst</td>\n",
       "    </tr>\n",
       "    <tr>\n",
       "      <th>4</th>\n",
       "      <td>data analyst</td>\n",
       "      <td>Data Analyst</td>\n",
       "      <td>27.0</td>\n",
       "      <td>450000.0</td>\n",
       "      <td>3.25</td>\n",
       "      <td>Business Intelligence Analyst</td>\n",
       "    </tr>\n",
       "  </tbody>\n",
       "</table>\n",
       "</div>"
      ],
      "text/plain": [
       "      job_title      hh_title   age    salary  exp. period  \\\n",
       "0  data analyst  Data analyst  22.0       NaN         2.67   \n",
       "1  data analyst  Data Analyst  21.0       NaN         0.83   \n",
       "2  data analyst  Data Analyst  30.0       NaN         7.50   \n",
       "3  data analyst  Data Analyst  24.0       NaN         4.92   \n",
       "4  data analyst  Data Analyst  27.0  450000.0         3.25   \n",
       "\n",
       "                   title of exp.  \n",
       "0                   Data Analyst  \n",
       "1            Junior Data Analyst  \n",
       "2                   Data Analyst  \n",
       "3                   Data Analyst  \n",
       "4  Business Intelligence Analyst  "
      ]
     },
     "execution_count": 133,
     "metadata": {},
     "output_type": "execute_result"
    }
   ],
   "source": [
    "d = pd.read_csv(\"data.csv\", encoding='latin1')\n",
    "d.head()"
   ]
  },
  {
   "cell_type": "code",
   "execution_count": 134,
   "id": "674a0508",
   "metadata": {},
   "outputs": [
    {
     "data": {
      "text/plain": [
       "job_title          0\n",
       "hh_title           0\n",
       "age               50\n",
       "salary           706\n",
       "exp. period        0\n",
       "title of exp.      0\n",
       "dtype: int64"
      ]
     },
     "execution_count": 134,
     "metadata": {},
     "output_type": "execute_result"
    }
   ],
   "source": [
    "d.isna().sum()"
   ]
  },
  {
   "cell_type": "code",
   "execution_count": 135,
   "id": "43b7f7a4",
   "metadata": {},
   "outputs": [
    {
     "data": {
      "text/html": [
       "<div>\n",
       "<style scoped>\n",
       "    .dataframe tbody tr th:only-of-type {\n",
       "        vertical-align: middle;\n",
       "    }\n",
       "\n",
       "    .dataframe tbody tr th {\n",
       "        vertical-align: top;\n",
       "    }\n",
       "\n",
       "    .dataframe thead th {\n",
       "        text-align: right;\n",
       "    }\n",
       "</style>\n",
       "<table border=\"1\" class=\"dataframe\">\n",
       "  <thead>\n",
       "    <tr style=\"text-align: right;\">\n",
       "      <th></th>\n",
       "      <th>job_title</th>\n",
       "      <th>hh_title</th>\n",
       "      <th>age</th>\n",
       "      <th>salary</th>\n",
       "      <th>exp. period</th>\n",
       "      <th>title of exp.</th>\n",
       "    </tr>\n",
       "  </thead>\n",
       "  <tbody>\n",
       "    <tr>\n",
       "      <th>4</th>\n",
       "      <td>data analyst</td>\n",
       "      <td>Data Analyst</td>\n",
       "      <td>27.0</td>\n",
       "      <td>450000.0</td>\n",
       "      <td>3.25</td>\n",
       "      <td>Business Intelligence Analyst</td>\n",
       "    </tr>\n",
       "    <tr>\n",
       "      <th>11</th>\n",
       "      <td>data analyst</td>\n",
       "      <td>Data Analyst</td>\n",
       "      <td>25.0</td>\n",
       "      <td>860000.0</td>\n",
       "      <td>2.92</td>\n",
       "      <td>Âåäóùèé ñïåöèàëèñò ÑÂÌ Äåïàðòàìåíòà ïëàíèðîâàí...</td>\n",
       "    </tr>\n",
       "    <tr>\n",
       "      <th>12</th>\n",
       "      <td>data analyst</td>\n",
       "      <td>Software Developer</td>\n",
       "      <td>28.0</td>\n",
       "      <td>950000.0</td>\n",
       "      <td>7.25</td>\n",
       "      <td>Data Analyst</td>\n",
       "    </tr>\n",
       "    <tr>\n",
       "      <th>15</th>\n",
       "      <td>data analyst</td>\n",
       "      <td>Data analyst</td>\n",
       "      <td>29.0</td>\n",
       "      <td>500000.0</td>\n",
       "      <td>6.75</td>\n",
       "      <td>Âåäóùèé èíæåíåð ïðîåêòà</td>\n",
       "    </tr>\n",
       "    <tr>\n",
       "      <th>21</th>\n",
       "      <td>data analyst</td>\n",
       "      <td>Data analyst</td>\n",
       "      <td>22.0</td>\n",
       "      <td>500000.0</td>\n",
       "      <td>3.33</td>\n",
       "      <td>Interpreter</td>\n",
       "    </tr>\n",
       "    <tr>\n",
       "      <th>...</th>\n",
       "      <td>...</td>\n",
       "      <td>...</td>\n",
       "      <td>...</td>\n",
       "      <td>...</td>\n",
       "      <td>...</td>\n",
       "      <td>...</td>\n",
       "    </tr>\n",
       "    <tr>\n",
       "      <th>989</th>\n",
       "      <td>sql</td>\n",
       "      <td>ïðîãðàììèñò Oracle</td>\n",
       "      <td>56.0</td>\n",
       "      <td>860.0</td>\n",
       "      <td>15.25</td>\n",
       "      <td>Ãëàâíûé ñïåöèàëèñò îòäåëà èíôîðìàöèîííûõ òåõíî...</td>\n",
       "    </tr>\n",
       "    <tr>\n",
       "      <th>990</th>\n",
       "      <td>sql</td>\n",
       "      <td>Ðóêîâîäèòåëü îòäåëà IT</td>\n",
       "      <td>32.0</td>\n",
       "      <td>645000.0</td>\n",
       "      <td>10.67</td>\n",
       "      <td>Òåõíè÷åñêèé äèðåêòîð</td>\n",
       "    </tr>\n",
       "    <tr>\n",
       "      <th>991</th>\n",
       "      <td>sql</td>\n",
       "      <td>Junior PL/SQL Developer Òåñòèðîâùèê</td>\n",
       "      <td>28.0</td>\n",
       "      <td>200000.0</td>\n",
       "      <td>6.58</td>\n",
       "      <td>Íàñòàâíèê</td>\n",
       "    </tr>\n",
       "    <tr>\n",
       "      <th>992</th>\n",
       "      <td>sql</td>\n",
       "      <td>Ïðîãðàììèñò-ðàçðàáîò÷èê</td>\n",
       "      <td>38.0</td>\n",
       "      <td>500000.0</td>\n",
       "      <td>11.42</td>\n",
       "      <td>Delphi/MSSQL developer</td>\n",
       "    </tr>\n",
       "    <tr>\n",
       "      <th>994</th>\n",
       "      <td>sql</td>\n",
       "      <td>Senior Backend Developer</td>\n",
       "      <td>29.0</td>\n",
       "      <td>1505000.0</td>\n",
       "      <td>0.58</td>\n",
       "      <td>Full Stack Developer</td>\n",
       "    </tr>\n",
       "  </tbody>\n",
       "</table>\n",
       "<p>274 rows × 6 columns</p>\n",
       "</div>"
      ],
      "text/plain": [
       "        job_title                             hh_title   age     salary  \\\n",
       "4    data analyst                         Data Analyst  27.0   450000.0   \n",
       "11   data analyst                         Data Analyst  25.0   860000.0   \n",
       "12   data analyst                   Software Developer  28.0   950000.0   \n",
       "15   data analyst                         Data analyst  29.0   500000.0   \n",
       "21   data analyst                         Data analyst  22.0   500000.0   \n",
       "..            ...                                  ...   ...        ...   \n",
       "989           sql                   ïðîãðàììèñò Oracle  56.0      860.0   \n",
       "990           sql               Ðóêîâîäèòåëü îòäåëà IT  32.0   645000.0   \n",
       "991           sql  Junior PL/SQL Developer Òåñòèðîâùèê  28.0   200000.0   \n",
       "992           sql              Ïðîãðàììèñò-ðàçðàáîò÷èê  38.0   500000.0   \n",
       "994           sql             Senior Backend Developer  29.0  1505000.0   \n",
       "\n",
       "     exp. period                                      title of exp.  \n",
       "4           3.25                      Business Intelligence Analyst  \n",
       "11          2.92  Âåäóùèé ñïåöèàëèñò ÑÂÌ Äåïàðòàìåíòà ïëàíèðîâàí...  \n",
       "12          7.25                                       Data Analyst  \n",
       "15          6.75                            Âåäóùèé èíæåíåð ïðîåêòà  \n",
       "21          3.33                                        Interpreter  \n",
       "..           ...                                                ...  \n",
       "989        15.25  Ãëàâíûé ñïåöèàëèñò îòäåëà èíôîðìàöèîííûõ òåõíî...  \n",
       "990        10.67                               Òåõíè÷åñêèé äèðåêòîð  \n",
       "991         6.58                                          Íàñòàâíèê  \n",
       "992        11.42                             Delphi/MSSQL developer  \n",
       "994         0.58                               Full Stack Developer  \n",
       "\n",
       "[274 rows x 6 columns]"
      ]
     },
     "execution_count": 135,
     "metadata": {},
     "output_type": "execute_result"
    }
   ],
   "source": [
    "d.dropna(inplace=True)\n",
    "d"
   ]
  },
  {
   "cell_type": "code",
   "execution_count": 136,
   "id": "3765a55e",
   "metadata": {},
   "outputs": [
    {
     "data": {
      "text/html": [
       "<div>\n",
       "<style scoped>\n",
       "    .dataframe tbody tr th:only-of-type {\n",
       "        vertical-align: middle;\n",
       "    }\n",
       "\n",
       "    .dataframe tbody tr th {\n",
       "        vertical-align: top;\n",
       "    }\n",
       "\n",
       "    .dataframe thead th {\n",
       "        text-align: right;\n",
       "    }\n",
       "</style>\n",
       "<table border=\"1\" class=\"dataframe\">\n",
       "  <thead>\n",
       "    <tr style=\"text-align: right;\">\n",
       "      <th></th>\n",
       "      <th>age</th>\n",
       "      <th>salary</th>\n",
       "      <th>exp. period</th>\n",
       "    </tr>\n",
       "  </thead>\n",
       "  <tbody>\n",
       "    <tr>\n",
       "      <th>4</th>\n",
       "      <td>27.0</td>\n",
       "      <td>450000.0</td>\n",
       "      <td>3.25</td>\n",
       "    </tr>\n",
       "    <tr>\n",
       "      <th>11</th>\n",
       "      <td>25.0</td>\n",
       "      <td>860000.0</td>\n",
       "      <td>2.92</td>\n",
       "    </tr>\n",
       "    <tr>\n",
       "      <th>12</th>\n",
       "      <td>28.0</td>\n",
       "      <td>950000.0</td>\n",
       "      <td>7.25</td>\n",
       "    </tr>\n",
       "    <tr>\n",
       "      <th>15</th>\n",
       "      <td>29.0</td>\n",
       "      <td>500000.0</td>\n",
       "      <td>6.75</td>\n",
       "    </tr>\n",
       "    <tr>\n",
       "      <th>21</th>\n",
       "      <td>22.0</td>\n",
       "      <td>500000.0</td>\n",
       "      <td>3.33</td>\n",
       "    </tr>\n",
       "    <tr>\n",
       "      <th>...</th>\n",
       "      <td>...</td>\n",
       "      <td>...</td>\n",
       "      <td>...</td>\n",
       "    </tr>\n",
       "    <tr>\n",
       "      <th>989</th>\n",
       "      <td>56.0</td>\n",
       "      <td>860.0</td>\n",
       "      <td>15.25</td>\n",
       "    </tr>\n",
       "    <tr>\n",
       "      <th>990</th>\n",
       "      <td>32.0</td>\n",
       "      <td>645000.0</td>\n",
       "      <td>10.67</td>\n",
       "    </tr>\n",
       "    <tr>\n",
       "      <th>991</th>\n",
       "      <td>28.0</td>\n",
       "      <td>200000.0</td>\n",
       "      <td>6.58</td>\n",
       "    </tr>\n",
       "    <tr>\n",
       "      <th>992</th>\n",
       "      <td>38.0</td>\n",
       "      <td>500000.0</td>\n",
       "      <td>11.42</td>\n",
       "    </tr>\n",
       "    <tr>\n",
       "      <th>994</th>\n",
       "      <td>29.0</td>\n",
       "      <td>1505000.0</td>\n",
       "      <td>0.58</td>\n",
       "    </tr>\n",
       "  </tbody>\n",
       "</table>\n",
       "<p>274 rows × 3 columns</p>\n",
       "</div>"
      ],
      "text/plain": [
       "      age     salary  exp. period\n",
       "4    27.0   450000.0         3.25\n",
       "11   25.0   860000.0         2.92\n",
       "12   28.0   950000.0         7.25\n",
       "15   29.0   500000.0         6.75\n",
       "21   22.0   500000.0         3.33\n",
       "..    ...        ...          ...\n",
       "989  56.0      860.0        15.25\n",
       "990  32.0   645000.0        10.67\n",
       "991  28.0   200000.0         6.58\n",
       "992  38.0   500000.0        11.42\n",
       "994  29.0  1505000.0         0.58\n",
       "\n",
       "[274 rows x 3 columns]"
      ]
     },
     "execution_count": 136,
     "metadata": {},
     "output_type": "execute_result"
    }
   ],
   "source": [
    "x = d.drop(['job_title', 'hh_title', 'title of exp.'], axis = 1)\n",
    "x"
   ]
  },
  {
   "cell_type": "code",
   "execution_count": 137,
   "id": "ffcaa94c",
   "metadata": {},
   "outputs": [
    {
     "data": {
      "text/plain": [
       "4      data analyst\n",
       "11     data analyst\n",
       "12     data analyst\n",
       "15     data analyst\n",
       "21     data analyst\n",
       "           ...     \n",
       "989             sql\n",
       "990             sql\n",
       "991             sql\n",
       "992             sql\n",
       "994             sql\n",
       "Name: job_title, Length: 274, dtype: object"
      ]
     },
     "execution_count": 137,
     "metadata": {},
     "output_type": "execute_result"
    }
   ],
   "source": [
    "y = d['job_title']\n",
    "y"
   ]
  },
  {
   "cell_type": "code",
   "execution_count": 138,
   "id": "db4864aa",
   "metadata": {},
   "outputs": [],
   "source": [
    "from sklearn.model_selection import train_test_split"
   ]
  },
  {
   "cell_type": "code",
   "execution_count": 139,
   "id": "e1acbf0d",
   "metadata": {},
   "outputs": [],
   "source": [
    "xtrain, xtest, ytrain, ytest = train_test_split(x, y, test_size = 0.8, stratify = y)"
   ]
  },
  {
   "cell_type": "code",
   "execution_count": 140,
   "id": "a48b796e",
   "metadata": {},
   "outputs": [],
   "source": [
    "from sklearn.naive_bayes import GaussianNB\n",
    "model = GaussianNB()"
   ]
  },
  {
   "cell_type": "code",
   "execution_count": 141,
   "id": "7da826c6",
   "metadata": {},
   "outputs": [],
   "source": [
    "model.fit(x, y)\n",
    "y_model = model.predict(x)"
   ]
  },
  {
   "cell_type": "code",
   "execution_count": 142,
   "id": "b4bda8f0",
   "metadata": {},
   "outputs": [
    {
     "data": {
      "text/plain": [
       "0.4708029197080292"
      ]
     },
     "execution_count": 142,
     "metadata": {},
     "output_type": "execute_result"
    }
   ],
   "source": [
    "from sklearn.metrics import accuracy_score\n",
    "accuracy_score(y, y_model)"
   ]
  },
  {
   "cell_type": "code",
   "execution_count": 143,
   "id": "912cd968",
   "metadata": {},
   "outputs": [],
   "source": [
    "from sklearn.model_selection import cross_val_score"
   ]
  },
  {
   "cell_type": "code",
   "execution_count": 144,
   "id": "336ed431",
   "metadata": {},
   "outputs": [
    {
     "data": {
      "text/plain": [
       "array([0.5       , 0.46428571, 0.46428571, 0.5       , 0.44444444,\n",
       "       0.48148148, 0.44444444, 0.48148148, 0.44444444, 0.48148148])"
      ]
     },
     "execution_count": 144,
     "metadata": {},
     "output_type": "execute_result"
    }
   ],
   "source": [
    "score = cross_val_score(model, x,y, cv=10)\n",
    "score"
   ]
  },
  {
   "cell_type": "code",
   "execution_count": 145,
   "id": "9e79c006",
   "metadata": {},
   "outputs": [
    {
     "data": {
      "text/plain": [
       "0.47063492063492063"
      ]
     },
     "execution_count": 145,
     "metadata": {},
     "output_type": "execute_result"
    }
   ],
   "source": [
    "score.mean()"
   ]
  },
  {
   "cell_type": "code",
   "execution_count": 146,
   "id": "dde449de",
   "metadata": {},
   "outputs": [],
   "source": [
    "from sklearn.neighbors import KNeighborsClassifier\n",
    "model = KNeighborsClassifier (n_neighbors = 3)"
   ]
  },
  {
   "cell_type": "code",
   "execution_count": 147,
   "id": "f6c255ea",
   "metadata": {},
   "outputs": [],
   "source": [
    "x1, x2, y1, y2 = train_test_split(x,y, random_state = 0, train_size = 0.8)"
   ]
  },
  {
   "cell_type": "code",
   "execution_count": 149,
   "id": "d701feaf",
   "metadata": {},
   "outputs": [
    {
     "data": {
      "text/plain": [
       "KNeighborsClassifier(n_neighbors=3)"
      ]
     },
     "execution_count": 149,
     "metadata": {},
     "output_type": "execute_result"
    }
   ],
   "source": [
    "model.fit(x1,y1)"
   ]
  },
  {
   "cell_type": "code",
   "execution_count": 151,
   "id": "44b1b8ce",
   "metadata": {},
   "outputs": [
    {
     "data": {
      "text/plain": [
       "0.9454545454545454"
      ]
     },
     "execution_count": 151,
     "metadata": {},
     "output_type": "execute_result"
    }
   ],
   "source": [
    "y2model = model.predict(x2)\n",
    "accuracy_score(y2, y2model)"
   ]
  },
  {
   "cell_type": "code",
   "execution_count": 152,
   "id": "0bfffdb2",
   "metadata": {},
   "outputs": [
    {
     "data": {
      "text/plain": [
       "array([1.        , 0.92857143, 0.96428571, 0.89285714, 0.96296296,\n",
       "       0.92592593, 1.        , 0.88888889, 0.96296296, 0.88888889])"
      ]
     },
     "execution_count": 152,
     "metadata": {},
     "output_type": "execute_result"
    }
   ],
   "source": [
    "score2 = cross_val_score(model,x,y, cv=10)\n",
    "score2"
   ]
  },
  {
   "cell_type": "code",
   "execution_count": 153,
   "id": "606374aa",
   "metadata": {},
   "outputs": [
    {
     "data": {
      "text/plain": [
       "0.9415343915343917"
      ]
     },
     "execution_count": 153,
     "metadata": {},
     "output_type": "execute_result"
    }
   ],
   "source": [
    "score2.mean()"
   ]
  },
  {
   "cell_type": "code",
   "execution_count": null,
   "id": "9a6cc8ec",
   "metadata": {},
   "outputs": [],
   "source": []
  }
 ],
 "metadata": {
  "kernelspec": {
   "display_name": "Python 3 (ipykernel)",
   "language": "python",
   "name": "python3"
  },
  "language_info": {
   "codemirror_mode": {
    "name": "ipython",
    "version": 3
   },
   "file_extension": ".py",
   "mimetype": "text/x-python",
   "name": "python",
   "nbconvert_exporter": "python",
   "pygments_lexer": "ipython3",
   "version": "3.9.7"
  }
 },
 "nbformat": 4,
 "nbformat_minor": 5
}
